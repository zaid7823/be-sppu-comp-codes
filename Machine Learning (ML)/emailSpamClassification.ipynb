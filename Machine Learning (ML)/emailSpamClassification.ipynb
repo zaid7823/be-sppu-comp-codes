{
  "nbformat": 4,
  "nbformat_minor": 0,
  "metadata": {
    "colab": {
      "provenance": []
    },
    "kernelspec": {
      "name": "python3",
      "display_name": "Python 3"
    },
    "language_info": {
      "name": "python"
    }
  },
  "cells": [
    {
      "cell_type": "markdown",
      "source": [
        "# **Assignment 2**\n",
        "## **Classify the email using the binary classification method. Email Spam detection has two states:**\n",
        "\n",
        "a. Normal State – Not Spam\n",
        "\n",
        "b. Abnormal State – Spam.\n",
        "\n",
        "Use K-Nearest Neighbors and Support Vector Machine for classification. Analyze their performance.\n"
      ],
      "metadata": {
        "id": "fLzkTHh3txU2"
      }
    },
    {
      "cell_type": "code",
      "execution_count": null,
      "metadata": {
        "id": "L4blD4-Kre_j"
      },
      "outputs": [],
      "source": [
        "# Import necessary libraries\n",
        "import pandas as pd\n",
        "import matplotlib.pyplot as plt\n",
        "import numpy as np\n",
        "import seaborn as sns\n",
        "import math"
      ]
    },
    {
      "cell_type": "code",
      "source": [
        "# Load the dataset and get info\n",
        "df = pd.read_csv(\"emails.csv\")\n",
        "\n",
        "# Explore and pre-process the dataset\n",
        "print(\"DF Info:\")\n",
        "print(df.info())\n",
        "\n",
        "print(\"\\nDF Shape:\")\n",
        "print(df.shape)\n",
        "\n",
        "print(\"\\nDF Description:\")\n",
        "print(df.describe())\n",
        "\n",
        "# Getting names of columns w/ null values\n",
        "nullCol = df.columns[df.isnull().any()]\n",
        "print(nullCol)"
      ],
      "metadata": {
        "colab": {
          "base_uri": "https://localhost:8080/"
        },
        "id": "TYOHw2zHsb09",
        "outputId": "08e5b629-58e5-4b22-a840-b93987211ee8"
      },
      "execution_count": null,
      "outputs": [
        {
          "output_type": "stream",
          "name": "stdout",
          "text": [
            "DF Info:\n",
            "<class 'pandas.core.frame.DataFrame'>\n",
            "RangeIndex: 5172 entries, 0 to 5171\n",
            "Columns: 3002 entries, Email No. to Prediction\n",
            "dtypes: int64(3001), object(1)\n",
            "memory usage: 118.5+ MB\n",
            "None\n",
            "\n",
            "DF Shape:\n",
            "(5172, 3002)\n",
            "\n",
            "DF Description:\n",
            "               the           to          ect          and          for  \\\n",
            "count  5172.000000  5172.000000  5172.000000  5172.000000  5172.000000   \n",
            "mean      6.640565     6.188128     5.143852     3.075599     3.124710   \n",
            "std      11.745009     9.534576    14.101142     6.045970     4.680522   \n",
            "min       0.000000     0.000000     1.000000     0.000000     0.000000   \n",
            "25%       0.000000     1.000000     1.000000     0.000000     1.000000   \n",
            "50%       3.000000     3.000000     1.000000     1.000000     2.000000   \n",
            "75%       8.000000     7.000000     4.000000     3.000000     4.000000   \n",
            "max     210.000000   132.000000   344.000000    89.000000    47.000000   \n",
            "\n",
            "                of            a          you          hou           in  ...  \\\n",
            "count  5172.000000  5172.000000  5172.000000  5172.000000  5172.000000  ...   \n",
            "mean      2.627030    55.517401     2.466551     2.024362    10.600155  ...   \n",
            "std       6.229845    87.574172     4.314444     6.967878    19.281892  ...   \n",
            "min       0.000000     0.000000     0.000000     0.000000     0.000000  ...   \n",
            "25%       0.000000    12.000000     0.000000     0.000000     1.000000  ...   \n",
            "50%       1.000000    28.000000     1.000000     0.000000     5.000000  ...   \n",
            "75%       2.000000    62.250000     3.000000     1.000000    12.000000  ...   \n",
            "max      77.000000  1898.000000    70.000000   167.000000   223.000000  ...   \n",
            "\n",
            "          connevey          jay       valued          lay  infrastructure  \\\n",
            "count  5172.000000  5172.000000  5172.000000  5172.000000     5172.000000   \n",
            "mean      0.005027     0.012568     0.010634     0.098028        0.004254   \n",
            "std       0.105788     0.199682     0.116693     0.569532        0.096252   \n",
            "min       0.000000     0.000000     0.000000     0.000000        0.000000   \n",
            "25%       0.000000     0.000000     0.000000     0.000000        0.000000   \n",
            "50%       0.000000     0.000000     0.000000     0.000000        0.000000   \n",
            "75%       0.000000     0.000000     0.000000     0.000000        0.000000   \n",
            "max       4.000000     7.000000     2.000000    12.000000        3.000000   \n",
            "\n",
            "          military     allowing           ff          dry   Prediction  \n",
            "count  5172.000000  5172.000000  5172.000000  5172.000000  5172.000000  \n",
            "mean      0.006574     0.004060     0.914733     0.006961     0.290023  \n",
            "std       0.138908     0.072145     2.780203     0.098086     0.453817  \n",
            "min       0.000000     0.000000     0.000000     0.000000     0.000000  \n",
            "25%       0.000000     0.000000     0.000000     0.000000     0.000000  \n",
            "50%       0.000000     0.000000     0.000000     0.000000     0.000000  \n",
            "75%       0.000000     0.000000     1.000000     0.000000     1.000000  \n",
            "max       4.000000     3.000000   114.000000     4.000000     1.000000  \n",
            "\n",
            "[8 rows x 3001 columns]\n",
            "Index([], dtype='object')\n"
          ]
        }
      ]
    },
    {
      "cell_type": "code",
      "source": [
        "# Partitioning dataset into features & target\n",
        "x = df.iloc[ : , 1:-1].values # Getting array of values, removing the 1st and last column\n",
        "y = df.iloc[ : , -1].values # Getting only the last column\n",
        "y"
      ],
      "metadata": {
        "colab": {
          "base_uri": "https://localhost:8080/"
        },
        "id": "PMsDAh-8t8yj",
        "outputId": "da9d18fe-4c58-4487-8131-24bbda18187f"
      },
      "execution_count": null,
      "outputs": [
        {
          "output_type": "execute_result",
          "data": {
            "text/plain": [
              "array([0, 0, 0, ..., 1, 1, 0])"
            ]
          },
          "metadata": {},
          "execution_count": 13
        }
      ]
    },
    {
      "cell_type": "code",
      "source": [
        "from sklearn.neighbors import KNeighborsClassifier\n",
        "from sklearn.svm import SVC\n",
        "from sklearn.model_selection import train_test_split\n",
        "from sklearn.preprocessing import StandardScaler\n",
        "from sklearn.metrics import (classification_report, confusion_matrix,\n",
        "                             accuracy_score, precision_score, recall_score, f1_score)"
      ],
      "metadata": {
        "id": "9bhZrbdPx_4k"
      },
      "execution_count": null,
      "outputs": []
    },
    {
      "cell_type": "code",
      "source": [
        "# Splitting data into training and testing data\n",
        "x_train, x_test, y_train, y_test = train_test_split(x, y, test_size=0.2, random_state=42)\n",
        "\n",
        "# Feature Scaling\n",
        "scaler = StandardScaler()\n",
        "x_train = scaler.fit_transform(x_train)\n",
        "x_test = scaler.transform(x_test) # transforms x_test based on mean and variance from x_train"
      ],
      "metadata": {
        "id": "JsRwscLG3Jk-"
      },
      "execution_count": null,
      "outputs": []
    },
    {
      "cell_type": "code",
      "source": [
        "knn = KNeighborsClassifier(n_neighbors=5)\n",
        "knn.fit(x_train, y_train)\n",
        "y_pred_knn = knn.predict(x_test)\n",
        "\n",
        "# KNN Metrics\n",
        "print(\"KNN Classification Report:\\n\", classification_report(y_test, y_pred_knn))\n",
        "print(\"KNN Accuracy Score: \", accuracy_score(y_test, y_pred_knn))\n",
        "print(\"KNN Precision Score: \", precision_score(y_test, y_pred_knn))\n",
        "print(\"KNN Recall Score: \", recall_score(y_test, y_pred_knn))\n",
        "print(\"KNN F1 Score: \", f1_score(y_test, y_pred_knn))"
      ],
      "metadata": {
        "colab": {
          "base_uri": "https://localhost:8080/"
        },
        "id": "ehWeFlBSz3Xt",
        "outputId": "61f31a0c-d98c-4c53-b5c0-d85802512536"
      },
      "execution_count": null,
      "outputs": [
        {
          "output_type": "stream",
          "name": "stdout",
          "text": [
            "KNN Classification Report:\n",
            "               precision    recall  f1-score   support\n",
            "\n",
            "           0       0.93      0.87      0.90       739\n",
            "           1       0.73      0.84      0.78       296\n",
            "\n",
            "    accuracy                           0.86      1035\n",
            "   macro avg       0.83      0.86      0.84      1035\n",
            "weighted avg       0.87      0.86      0.87      1035\n",
            "\n",
            "KNN Accuracy Score:  0.8628019323671497\n",
            "KNN Precision Score:  0.7251461988304093\n",
            "KNN Recall Score:  0.8378378378378378\n",
            "KNN F1 Score:  0.7774294670846394\n"
          ]
        }
      ]
    },
    {
      "cell_type": "code",
      "source": [
        "cm_knn = confusion_matrix(y_test, y_pred_knn)\n",
        "print(\"Confusion Matrix:\\n\", cm_knn)\n",
        "sns.heatmap(cm_knn, annot=True, fmt='d', cmap='Blues')\n",
        "plt.title(\"KNN Confusion Matrix\")\n",
        "plt.xlabel(\"Predicted\")\n",
        "plt.ylabel(\"Actual\")\n",
        "plt.show()"
      ],
      "metadata": {
        "colab": {
          "base_uri": "https://localhost:8080/",
          "height": 524
        },
        "id": "mcUv2MxV6sQ_",
        "outputId": "5f4a579b-ccb3-4db1-d0fd-80903e019660"
      },
      "execution_count": null,
      "outputs": [
        {
          "output_type": "stream",
          "name": "stdout",
          "text": [
            "Confusion Matrix:\n",
            " [[645  94]\n",
            " [ 48 248]]\n"
          ]
        },
        {
          "output_type": "display_data",
          "data": {
            "text/plain": [
              "<Figure size 640x480 with 2 Axes>"
            ],
            "image/png": "[encoded data removed]"
          },
          "metadata": {}
        }
      ]
    },
    {
      "cell_type": "code",
      "source": [
        "# Implementing SVM Classification\n",
        "svm = SVC(kernel='linear')\n",
        "svm.fit(x_train, y_train)\n",
        "y_pred_svm = svm.predict(x_test)\n",
        "\n",
        "# SVM Metrics\n",
        "print(\"SVM Classification Report:\\n\", classification_report(y_test, y_pred_svm))\n",
        "print(\"SVM Accuracy Score: \", accuracy_score(y_test, y_pred_svm))\n",
        "print(\"SVM Precision Score: \", precision_score(y_test, y_pred_svm))\n",
        "print(\"SVM Recall Score: \", recall_score(y_test, y_pred_svm))\n",
        "print(\"SVM F1 Score: \", f1_score(y_test, y_pred_svm))\n",
        "print(\"Confusion Matrix:\\n\", confusion_matrix(y_test, y_pred_svm))"
      ],
      "metadata": {
        "colab": {
          "base_uri": "https://localhost:8080/"
        },
        "id": "L0bFqyqg9J8-",
        "outputId": "8065282f-c125-4a37-92a0-728b8fa3e6c2"
      },
      "execution_count": null,
      "outputs": [
        {
          "output_type": "stream",
          "name": "stdout",
          "text": [
            "SVM Classification Report:\n",
            "               precision    recall  f1-score   support\n",
            "\n",
            "           0       0.98      0.97      0.97       739\n",
            "           1       0.92      0.94      0.93       296\n",
            "\n",
            "    accuracy                           0.96      1035\n",
            "   macro avg       0.95      0.95      0.95      1035\n",
            "weighted avg       0.96      0.96      0.96      1035\n",
            "\n",
            "SVM Accuracy Score:  0.9594202898550724\n",
            "SVM Precision Score:  0.9205298013245033\n",
            "SVM Recall Score:  0.9391891891891891\n",
            "SVM F1 Score:  0.9297658862876255\n",
            "Confusion Matrix:\n",
            " [[715  24]\n",
            " [ 18 278]]\n"
          ]
        }
      ]
    },
    {
      "cell_type": "code",
      "source": [
        "# SVM Confusion Matrix\n",
        "cm_svm = confusion_matrix(y_test, y_pred_svm)\n",
        "sns.heatmap(cm_svm, annot=True, fmt='d', cmap='Blues')\n",
        "plt.xlabel('Predicted')\n",
        "plt.ylabel('Actual')\n",
        "plt.title(\"SVM Confusion Matrix\")\n",
        "plt.show()"
      ],
      "metadata": {
        "colab": {
          "base_uri": "https://localhost:8080/",
          "height": 472
        },
        "id": "zfRiCthc9y6p",
        "outputId": "c4c58146-a24a-464a-9ec7-cdfad888cf82"
      },
      "execution_count": null,
      "outputs": [
        {
          "output_type": "display_data",
          "data": {
            "text/plain": [
              "<Figure size 640x480 with 2 Axes>"
            ],
            "image/png": "[encoded data removed]"
          },
          "metadata": {}
        }
      ]
    }
  ]
}