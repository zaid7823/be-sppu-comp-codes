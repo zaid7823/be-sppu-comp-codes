{
  "nbformat": 4,
  "nbformat_minor": 0,
  "metadata": {
    "colab": {
      "provenance": []
    },
    "kernelspec": {
      "name": "python3",
      "display_name": "Python 3"
    },
    "language_info": {
      "name": "python"
    }
  },
  "cells": [
    {
      "cell_type": "markdown",
      "source": [
        "# **ML Assignment 5**\n",
        "Implement K-Nearest Neighbors algorithm on `diabetes.csv` dataset.\n",
        "Compute confusion matrix, accuracy, error rate, precision, and recall on the given dataset.\n",
        "\n",
        "Dataset link: [diabetes.csv](https://www.kaggle.com/datasets/abdallamahgoub/diabetes)"
      ],
      "metadata": {
        "id": "bjH5fNLCSmCO"
      }
    },
    {
      "cell_type": "code",
      "execution_count": null,
      "metadata": {
        "id": "k61zwcSIXBp-"
      },
      "outputs": [],
      "source": [
        "# Import necessary libraries\n",
        "import numpy as np\n",
        "import pandas as pd\n",
        "import matplotlib.pyplot as plt"
      ]
    },
    {
      "cell_type": "code",
      "source": [
        "# Load the dataset\n",
        "df = pd.read_csv('diabetes.csv')\n",
        "\n",
        "print(df.head())\n",
        "df.shape"
      ],
      "metadata": {
        "colab": {
          "base_uri": "https://localhost:8080/"
        },
        "id": "k7rAyRNhYFUm",
        "outputId": "e447b0d5-ae71-4222-ad77-92f3a44c2dfb"
      },
      "execution_count": null,
      "outputs": [
        {
          "output_type": "stream",
          "name": "stdout",
          "text": [
            "   Pregnancies  Glucose  BloodPressure  SkinThickness  Insulin   BMI  \\\n",
            "0            6      148             72             35        0  33.6   \n",
            "1            1       85             66             29        0  26.6   \n",
            "2            8      183             64              0        0  23.3   \n",
            "3            1       89             66             23       94  28.1   \n",
            "4            0      137             40             35      168  43.1   \n",
            "\n",
            "   Pedigree  Age  Outcome  \n",
            "0     0.627   50        1  \n",
            "1     0.351   31        0  \n",
            "2     0.672   32        1  \n",
            "3     0.167   21        0  \n",
            "4     2.288   33        1  \n"
          ]
        },
        {
          "output_type": "execute_result",
          "data": {
            "text/plain": [
              "(768, 9)"
            ]
          },
          "metadata": {},
          "execution_count": 2
        }
      ]
    },
    {
      "cell_type": "code",
      "source": [
        "# Partition the data into features & target\n",
        "x = df.drop(['Outcome'], axis=1)\n",
        "y = df['Outcome']"
      ],
      "metadata": {
        "id": "z_XRPraxYUb-"
      },
      "execution_count": null,
      "outputs": []
    },
    {
      "cell_type": "code",
      "source": [
        "print(x)"
      ],
      "metadata": {
        "colab": {
          "base_uri": "https://localhost:8080/"
        },
        "id": "LES-KlZpZEOW",
        "outputId": "4f11d59a-1038-4400-bc7b-1a31fa68308f"
      },
      "execution_count": null,
      "outputs": [
        {
          "output_type": "stream",
          "name": "stdout",
          "text": [
            "     Pregnancies  Glucose  BloodPressure  SkinThickness  Insulin   BMI  \\\n",
            "0              6      148             72             35        0  33.6   \n",
            "1              1       85             66             29        0  26.6   \n",
            "2              8      183             64              0        0  23.3   \n",
            "3              1       89             66             23       94  28.1   \n",
            "4              0      137             40             35      168  43.1   \n",
            "..           ...      ...            ...            ...      ...   ...   \n",
            "763           10      101             76             48      180  32.9   \n",
            "764            2      122             70             27        0  36.8   \n",
            "765            5      121             72             23      112  26.2   \n",
            "766            1      126             60              0        0  30.1   \n",
            "767            1       93             70             31        0  30.4   \n",
            "\n",
            "     Pedigree  Age  \n",
            "0       0.627   50  \n",
            "1       0.351   31  \n",
            "2       0.672   32  \n",
            "3       0.167   21  \n",
            "4       2.288   33  \n",
            "..        ...  ...  \n",
            "763     0.171   63  \n",
            "764     0.340   27  \n",
            "765     0.245   30  \n",
            "766     0.349   47  \n",
            "767     0.315   23  \n",
            "\n",
            "[768 rows x 8 columns]\n"
          ]
        }
      ]
    },
    {
      "cell_type": "code",
      "source": [
        "from sklearn.model_selection import train_test_split\n",
        "from sklearn.neighbors import KNeighborsClassifier\n",
        "from sklearn.metrics import confusion_matrix\n",
        "\n",
        "x_train, x_test, y_train, y_test = train_test_split(x, y, test_size=0.2, random_state=42)\n",
        "\n",
        "# Implement K-Nearest Neighbors Classifier\n",
        "knn = KNeighborsClassifier()\n",
        "knn.fit(x_train, y_train)\n",
        "y_pred = knn.predict(x_test)"
      ],
      "metadata": {
        "id": "P9raOqcxZFzc"
      },
      "execution_count": null,
      "outputs": []
    },
    {
      "cell_type": "code",
      "source": [
        "import seaborn as sns\n",
        "confusionMatrix = confusion_matrix(y_test, y_pred)\n",
        "\n",
        "sns.heatmap(confusionMatrix, annot=True, fmt='d', cmap='Blues')\n",
        "plt.xlabel('Predicted')\n",
        "plt.ylabel('Actual')\n",
        "plt.show()"
      ],
      "metadata": {
        "colab": {
          "base_uri": "https://localhost:8080/",
          "height": 455
        },
        "id": "YQZ830OGUe4F",
        "outputId": "557f39f0-c7b4-402d-e79c-cc2c18697ba7"
      },
      "execution_count": null,
      "outputs": [
        {
          "output_type": "display_data",
          "data": {
            "text/plain": [
              "<Figure size 640x480 with 2 Axes>"
            ],
            "image/png": "[encoded data removed]"
          },
          "metadata": {}
        }
      ]
    },
    {
      "cell_type": "markdown",
      "source": [
        "## Classification Metrics\n",
        " Accuracy: $\\frac{(TP + TN)}{(TP + TN + FP + FN)}$ \\\\\n",
        "\n",
        "\n",
        " Precision: $\\frac{TP}{TP + FP} $ if $(TP + FP)$ != $0$ else $0$ \\\\\n",
        "\n",
        "\n",
        " Recall: $\\frac{TP}{TP + FN}$ if $(TP + FN)$ != $0$ else $0$\n",
        "\n",
        "\n",
        " Error Rate: $\\frac{FP + FN}{TP + TN + FP + FN}$"
      ],
      "metadata": {
        "id": "xqANCVG-UhtS"
      }
    },
    {
      "cell_type": "code",
      "source": [
        "TN, FP, FN, TP = confusionMatrix.ravel()\n",
        "\n",
        "import math as m\n",
        "def roundUp(value):\n",
        "    return (m.floor(value * 1000)) / 1000\n",
        "\n",
        "accuracy = (TP + TN) / (TP + TN + FP + FN)\n",
        "error_rate = (FP + FN) / (TP + TN + FP + FN)\n",
        "precision = TP / (TP + FP) if (TP + FP) != 0 else 0\n",
        "recall = TP / (TP + FN) if (TP + FN) != 0 else 0\n",
        "\n",
        "print(\"Accuracy: \", roundUp(accuracy))\n",
        "print(\"Error Rate: \", roundUp(error_rate))\n",
        "print(\"Precision: \", roundUp(precision))\n",
        "print(\"Recall: \", roundUp(recall))"
      ],
      "metadata": {
        "colab": {
          "base_uri": "https://localhost:8080/"
        },
        "id": "7NF6bKTNVMvT",
        "outputId": "99a90230-6d05-43ac-84e9-61c3ffd2d91f"
      },
      "execution_count": null,
      "outputs": [
        {
          "output_type": "stream",
          "name": "stdout",
          "text": [
            "Accuracy:  0.662\n",
            "Error Rate:  0.337\n",
            "Precision:  0.524\n",
            "Recall:  0.581\n"
          ]
        }
      ]
    }
  ]
}