{
  "nbformat": 4,
  "nbformat_minor": 0,
  "metadata": {
    "colab": {
      "provenance": []
    },
    "kernelspec": {
      "name": "python3",
      "display_name": "Python 3"
    },
    "language_info": {
      "name": "python"
    }
  },
  "cells": [
    {
      "cell_type": "markdown",
      "source": [
        "## **ML Assignment 1**\n",
        "\n",
        "Predict the price of the Uber ride from a given pickup point to the agreed drop-off location.\n",
        "Perform following tasks:\n",
        "1. Pre-process the dataset.\n",
        "2. Identify outliers.\n",
        "3. Check the correlation.\n",
        "4. Implement linear regression and random forest regression models.\n",
        "5. Evaluate the models and compare their respective scores like $R^2$, RMSE, etc.\n",
        "\n",
        "Dataset link: https://www.kaggle.com/datasets/yasserh/uber-fares-dataset"
      ],
      "metadata": {
        "id": "0Iz_58YEQMGn"
      }
    },
    {
      "cell_type": "code",
      "execution_count": null,
      "metadata": {
        "id": "6j9lkTVmEY3F"
      },
      "outputs": [],
      "source": [
        "# Importing the libraries\n",
        "import matplotlib.pyplot as plt\n",
        "import seaborn as sns\n",
        "import pandas as pd\n",
        "import numpy as np\n",
        "import calendar"
      ]
    },
    {
      "cell_type": "code",
      "source": [
        "# Fetch the dataset and explore\n",
        "df = pd.read_csv(\"uber.csv\")\n",
        "df.info()\n",
        "\n",
        "print(\"\\ndf.shape =\", df.shape)"
      ],
      "metadata": {
        "colab": {
          "base_uri": "https://localhost:8080/"
        },
        "id": "S5g57dYMEwYT",
        "outputId": "72e244a1-f01b-4941-ea07-541fc7d83201"
      },
      "execution_count": null,
      "outputs": [
        {
          "output_type": "stream",
          "name": "stdout",
          "text": [
            "<class 'pandas.core.frame.DataFrame'>\n",
            "RangeIndex: 200000 entries, 0 to 199999\n",
            "Data columns (total 9 columns):\n",
            " #   Column             Non-Null Count   Dtype  \n",
            "---  ------             --------------   -----  \n",
            " 0   Unnamed: 0         200000 non-null  int64  \n",
            " 1   key                200000 non-null  object \n",
            " 2   fare_amount        200000 non-null  float64\n",
            " 3   pickup_datetime    200000 non-null  object \n",
            " 4   pickup_longitude   200000 non-null  float64\n",
            " 5   pickup_latitude    200000 non-null  float64\n",
            " 6   dropoff_longitude  199999 non-null  float64\n",
            " 7   dropoff_latitude   199999 non-null  float64\n",
            " 8   passenger_count    200000 non-null  int64  \n",
            "dtypes: float64(5), int64(2), object(2)\n",
            "memory usage: 13.7+ MB\n",
            "\n",
            "df.shape = (200000, 9)\n"
          ]
        }
      ]
    },
    {
      "cell_type": "code",
      "source": [
        "# 1. Preprocess the dataset\n",
        "\n",
        "# Handle missing values by removing rows with NaN values\n",
        "df.dropna(inplace=True)\n",
        "\n",
        "df.info()\n",
        "\n",
        "print(df.isnull().sum())\n",
        "\n",
        "# Remove unnecessary columns (somehow already removed)\n",
        "df.drop(['Unnamed: 0', 'key'], axis=1, inplace=True)"
      ],
      "metadata": {
        "colab": {
          "base_uri": "https://localhost:8080/"
        },
        "id": "0xgWLzo1FtaR",
        "outputId": "b1962c6e-56d5-434a-deec-28d7fcfc6266"
      },
      "execution_count": null,
      "outputs": [
        {
          "output_type": "stream",
          "name": "stdout",
          "text": [
            "<class 'pandas.core.frame.DataFrame'>\n",
            "Index: 199999 entries, 0 to 199999\n",
            "Data columns (total 9 columns):\n",
            " #   Column             Non-Null Count   Dtype  \n",
            "---  ------             --------------   -----  \n",
            " 0   Unnamed: 0         199999 non-null  int64  \n",
            " 1   key                199999 non-null  object \n",
            " 2   fare_amount        199999 non-null  float64\n",
            " 3   pickup_datetime    199999 non-null  object \n",
            " 4   pickup_longitude   199999 non-null  float64\n",
            " 5   pickup_latitude    199999 non-null  float64\n",
            " 6   dropoff_longitude  199999 non-null  float64\n",
            " 7   dropoff_latitude   199999 non-null  float64\n",
            " 8   passenger_count    199999 non-null  int64  \n",
            "dtypes: float64(5), int64(2), object(2)\n",
            "memory usage: 15.3+ MB\n",
            "Unnamed: 0           0\n",
            "key                  0\n",
            "fare_amount          0\n",
            "pickup_datetime      0\n",
            "pickup_longitude     0\n",
            "pickup_latitude      0\n",
            "dropoff_longitude    0\n",
            "dropoff_latitude     0\n",
            "passenger_count      0\n",
            "dtype: int64\n"
          ]
        }
      ]
    },
    {
      "cell_type": "code",
      "source": [
        "# Convert 'pickup_datetime' column to datetime format\n",
        "df['pickup_datetime'] = pd.to_datetime(df[\"pickup_datetime\"])\n",
        "print(df.head())\n",
        "print(\"\\n\")\n",
        "print(df.describe())"
      ],
      "metadata": {
        "colab": {
          "base_uri": "https://localhost:8080/"
        },
        "id": "TBMYmyqFGDw7",
        "outputId": "a6b8f50d-72c4-48f3-f2ce-756ffbb61afd"
      },
      "execution_count": null,
      "outputs": [
        {
          "output_type": "stream",
          "name": "stdout",
          "text": [
            "   fare_amount           pickup_datetime  pickup_longitude  pickup_latitude  \\\n",
            "0          7.5 2015-05-07 19:52:06+00:00        -73.999817        40.738354   \n",
            "1          7.7 2009-07-17 20:04:56+00:00        -73.994355        40.728225   \n",
            "2         12.9 2009-08-24 21:45:00+00:00        -74.005043        40.740770   \n",
            "3          5.3 2009-06-26 08:22:21+00:00        -73.976124        40.790844   \n",
            "4         16.0 2014-08-28 17:47:00+00:00        -73.925023        40.744085   \n",
            "\n",
            "   dropoff_longitude  dropoff_latitude  passenger_count  \n",
            "0         -73.999512         40.723217                1  \n",
            "1         -73.994710         40.750325                1  \n",
            "2         -73.962565         40.772647                1  \n",
            "3         -73.965316         40.803349                3  \n",
            "4         -73.973082         40.761247                5  \n",
            "\n",
            "\n",
            "         fare_amount  pickup_longitude  pickup_latitude  dropoff_longitude  \\\n",
            "count  199999.000000     199999.000000    199999.000000      199999.000000   \n",
            "mean       11.359892        -72.527631        39.935881         -72.525292   \n",
            "std         9.901760         11.437815         7.720558          13.117408   \n",
            "min       -52.000000      -1340.648410       -74.015515       -3356.666300   \n",
            "25%         6.000000        -73.992065        40.734796         -73.991407   \n",
            "50%         8.500000        -73.981823        40.752592         -73.980093   \n",
            "75%        12.500000        -73.967154        40.767158         -73.963658   \n",
            "max       499.000000         57.418457      1644.421482        1153.572603   \n",
            "\n",
            "       dropoff_latitude  passenger_count  \n",
            "count     199999.000000    199999.000000  \n",
            "mean          39.923890         1.684543  \n",
            "std            6.794829         1.385995  \n",
            "min         -881.985513         0.000000  \n",
            "25%           40.733823         1.000000  \n",
            "50%           40.753042         1.000000  \n",
            "75%           40.768001         2.000000  \n",
            "max          872.697628       208.000000  \n"
          ]
        }
      ]
    },
    {
      "cell_type": "code",
      "source": [
        "# 2. Identify and remove outliers\n",
        "# Visualize the outliers using boxplot for 'fare_amount'\n",
        "\n",
        "plt.figure(figsize=(20, 6))\n",
        "sns.boxplot(x=df['fare_amount'])\n",
        "plt.title(\"Fare Distribution with Outliers\")\n",
        "plt.show()"
      ],
      "metadata": {
        "colab": {
          "base_uri": "https://localhost:8080/",
          "height": 564
        },
        "id": "mIt5qS-QKlIi",
        "outputId": "37e2caf8-53aa-4adf-f7e3-8bfb5d878a6d"
      },
      "execution_count": null,
      "outputs": [
        {
          "output_type": "display_data",
          "data": {
            "text/plain": [
              "<Figure size 2000x600 with 1 Axes>"
            ],
            "image/png": "[encoded data removed]"
          },
          "metadata": {}
        }
      ]
    },
    {
      "cell_type": "code",
      "source": [
        "# Histogram Plot for 'fare_amount'\n",
        "sns.histplot(df['fare_amount'], kde=True)\n",
        "plt.title('Fare Amount Frequency Distribution')\n",
        "plt.show()"
      ],
      "metadata": {
        "colab": {
          "base_uri": "https://localhost:8080/",
          "height": 472
        },
        "id": "2OoT76eSNUsa",
        "outputId": "d04ab9cb-3f4d-4bf5-f1fb-22ce41692707"
      },
      "execution_count": null,
      "outputs": [
        {
          "output_type": "display_data",
          "data": {
            "text/plain": [
              "<Figure size 640x480 with 1 Axes>"
            ],
            "image/png": "[encoded data removed]"
          },
          "metadata": {}
        }
      ]
    },
    {
      "cell_type": "code",
      "source": [
        "# Function to find outliers\n",
        "\n",
        "def findOutliers(dfColumn):\n",
        "    q1 = dfColumn.quantile(0.25)\n",
        "    q3 = dfColumn.quantile(0.75)\n",
        "    iqr = q3 - q1\n",
        "    outliers = dfColumn[(dfColumn < (q1 - 1.5 * iqr)) | (dfColumn > (q3 + 1.5 * iqr))]\n",
        "    return outliers"
      ],
      "metadata": {
        "id": "q6EHn__COu6T"
      },
      "execution_count": null,
      "outputs": []
    },
    {
      "cell_type": "code",
      "source": [
        "# Identify outliers in the 'fare_amount' attribute\n",
        "outliers = findOutliers(df['fare_amount'])\n",
        "print(\"No. of outliers: \", len(outliers))\n",
        "print(\"\\nMax outlier value: \", outliers.max())\n",
        "print(\"\\nMin outlier value: \", outliers.min())"
      ],
      "metadata": {
        "colab": {
          "base_uri": "https://localhost:8080/"
        },
        "id": "lFi59yLlUXSm",
        "outputId": "82336872-c22a-40a7-bb05-090d1c2f79b1"
      },
      "execution_count": null,
      "outputs": [
        {
          "output_type": "stream",
          "name": "stdout",
          "text": [
            "No. of outliers:  17166\n",
            "\n",
            "Max outlier value:  499.0\n",
            "\n",
            "Min outlier value:  -52.0\n"
          ]
        }
      ]
    },
    {
      "cell_type": "code",
      "source": [
        "# Correlation Matrix\n",
        "# Remove 'pickup_datetime'\n",
        "corrData = df.drop(['pickup_datetime'], axis=1) # no 'inplace=True'\n",
        "plt.figure(figsize=(10, 6)) # For canvas\n",
        "sns.heatmap(corrData.corr(), annot=True)\n",
        "plt.title(\"Correlation Matrix\")\n",
        "plt.show()"
      ],
      "metadata": {
        "colab": {
          "base_uri": "https://localhost:8080/",
          "height": 576
        },
        "id": "z5-BEoCOVdU9",
        "outputId": "9db2f57a-7b95-4d69-bb95-f07c70e5aea3"
      },
      "execution_count": null,
      "outputs": [
        {
          "output_type": "display_data",
          "data": {
            "text/plain": [
              "<Figure size 500x500 with 2 Axes>"
            ],
            "image/png": "[encoded data removed]"
          },
          "metadata": {}
        }
      ]
    },
    {
      "cell_type": "code",
      "source": [
        "# Split 'pickup_datetime' into individual components for analysis\n",
        "df['hour'] = df['pickup_datetime'].dt.hour\n",
        "df['day'] = df['pickup_datetime'].dt.day\n",
        "df['weekday'] = df['pickup_datetime'].dt.weekday\n",
        "df['month'] = df['pickup_datetime'].dt.month\n",
        "df['year'] = df['pickup_datetime'].dt.year\n",
        "\n",
        "# After splitting, remove the 'pickup_datetime' attribute\n",
        "df.drop(['pickup_datetime'], axis=1, inplace=True)\n",
        "df.head()"
      ],
      "metadata": {
        "colab": {
          "base_uri": "https://localhost:8080/",
          "height": 206
        },
        "id": "iN4csUDWZEZW",
        "outputId": "9ae42f4a-a5ca-487f-e94b-0354de43c5de"
      },
      "execution_count": null,
      "outputs": [
        {
          "output_type": "execute_result",
          "data": {
            "text/plain": [
              "   fare_amount  pickup_longitude  pickup_latitude  dropoff_longitude  \\\n",
              "0          7.5        -73.999817        40.738354         -73.999512   \n",
              "1          7.7        -73.994355        40.728225         -73.994710   \n",
              "2         12.9        -74.005043        40.740770         -73.962565   \n",
              "3          5.3        -73.976124        40.790844         -73.965316   \n",
              "4         16.0        -73.925023        40.744085         -73.973082   \n",
              "\n",
              "   dropoff_latitude  passenger_count  hour  day  weekday  month  year  \n",
              "0         40.723217                1    19    7        3      5  2015  \n",
              "1         40.750325                1    20   17        4      7  2009  \n",
              "2         40.772647                1    21   24        0      8  2009  \n",
              "3         40.803349                3     8   26        4      6  2009  \n",
              "4         40.761247                5    17   28        3      8  2014  "
            ],
            "text/html": [
              "\n",
              "  <div id=\"df-5fa3c366-b884-43a9-9414-d6331a52fac0\" class=\"colab-df-container\">\n",
              "    <div>\n",
              "<style scoped>\n",
              "    .dataframe tbody tr th:only-of-type {\n",
              "        vertical-align: middle;\n",
              "    }\n",
              "\n",
              "    .dataframe tbody tr th {\n",
              "        vertical-align: top;\n",
              "    }\n",
              "\n",
              "    .dataframe thead th {\n",
              "        text-align: right;\n",
              "    }\n",
              "</style>\n",
              "<table border=\"1\" class=\"dataframe\">\n",
              "  <thead>\n",
              "    <tr style=\"text-align: right;\">\n",
              "      <th></th>\n",
              "      <th>fare_amount</th>\n",
              "      <th>pickup_longitude</th>\n",
              "      <th>pickup_latitude</th>\n",
              "      <th>dropoff_longitude</th>\n",
              "      <th>dropoff_latitude</th>\n",
              "      <th>passenger_count</th>\n",
              "      <th>hour</th>\n",
              "      <th>day</th>\n",
              "      <th>weekday</th>\n",
              "      <th>month</th>\n",
              "      <th>year</th>\n",
              "    </tr>\n",
              "  </thead>\n",
              "  <tbody>\n",
              "    <tr>\n",
              "      <th>0</th>\n",
              "      <td>7.5</td>\n",
              "      <td>-73.999817</td>\n",
              "      <td>40.738354</td>\n",
              "      <td>-73.999512</td>\n",
              "      <td>40.723217</td>\n",
              "      <td>1</td>\n",
              "      <td>19</td>\n",
              "      <td>7</td>\n",
              "      <td>3</td>\n",
              "      <td>5</td>\n",
              "      <td>2015</td>\n",
              "    </tr>\n",
              "    <tr>\n",
              "      <th>1</th>\n",
              "      <td>7.7</td>\n",
              "      <td>-73.994355</td>\n",
              "      <td>40.728225</td>\n",
              "      <td>-73.994710</td>\n",
              "      <td>40.750325</td>\n",
              "      <td>1</td>\n",
              "      <td>20</td>\n",
              "      <td>17</td>\n",
              "      <td>4</td>\n",
              "      <td>7</td>\n",
              "      <td>2009</td>\n",
              "    </tr>\n",
              "    <tr>\n",
              "      <th>2</th>\n",
              "      <td>12.9</td>\n",
              "      <td>-74.005043</td>\n",
              "      <td>40.740770</td>\n",
              "      <td>-73.962565</td>\n",
              "      <td>40.772647</td>\n",
              "      <td>1</td>\n",
              "      <td>21</td>\n",
              "      <td>24</td>\n",
              "      <td>0</td>\n",
              "      <td>8</td>\n",
              "      <td>2009</td>\n",
              "    </tr>\n",
              "    <tr>\n",
              "      <th>3</th>\n",
              "      <td>5.3</td>\n",
              "      <td>-73.976124</td>\n",
              "      <td>40.790844</td>\n",
              "      <td>-73.965316</td>\n",
              "      <td>40.803349</td>\n",
              "      <td>3</td>\n",
              "      <td>8</td>\n",
              "      <td>26</td>\n",
              "      <td>4</td>\n",
              "      <td>6</td>\n",
              "      <td>2009</td>\n",
              "    </tr>\n",
              "    <tr>\n",
              "      <th>4</th>\n",
              "      <td>16.0</td>\n",
              "      <td>-73.925023</td>\n",
              "      <td>40.744085</td>\n",
              "      <td>-73.973082</td>\n",
              "      <td>40.761247</td>\n",
              "      <td>5</td>\n",
              "      <td>17</td>\n",
              "      <td>28</td>\n",
              "      <td>3</td>\n",
              "      <td>8</td>\n",
              "      <td>2014</td>\n",
              "    </tr>\n",
              "  </tbody>\n",
              "</table>\n",
              "</div>\n",
              "    <div class=\"colab-df-buttons\">\n",
              "\n",
              "  <div class=\"colab-df-container\">\n",
              "    <button class=\"colab-df-convert\" onclick=\"convertToInteractive('df-5fa3c366-b884-43a9-9414-d6331a52fac0')\"\n",
              "            title=\"Convert this dataframe to an interactive table.\"\n",
              "            style=\"display:none;\">\n",
              "\n",
              "  <svg xmlns=\"http://www.w3.org/2000/svg\" height=\"24px\" viewBox=\"0 -960 960 960\">\n",
              "    <path d=\"M120-120v-720h720v720H120Zm60-500h600v-160H180v160Zm220 220h160v-160H400v160Zm0 220h160v-160H400v160ZM180-400h160v-160H180v160Zm440 0h160v-160H620v160ZM180-180h160v-160H180v160Zm440 0h160v-160H620v160Z\"/>\n",
              "  </svg>\n",
              "    </button>\n",
              "\n",
              "  <style>\n",
              "    .colab-df-container {\n",
              "      display:flex;\n",
              "      gap: 12px;\n",
              "    }\n",
              "\n",
              "    .colab-df-convert {\n",
              "      background-color: #E8F0FE;\n",
              "      border: none;\n",
              "      border-radius: 50%;\n",
              "      cursor: pointer;\n",
              "      display: none;\n",
              "      fill: #1967D2;\n",
              "      height: 32px;\n",
              "      padding: 0 0 0 0;\n",
              "      width: 32px;\n",
              "    }\n",
              "\n",
              "    .colab-df-convert:hover {\n",
              "      background-color: #E2EBFA;\n",
              "      box-shadow: 0px 1px 2px rgba(60, 64, 67, 0.3), 0px 1px 3px 1px rgba(60, 64, 67, 0.15);\n",
              "      fill: #174EA6;\n",
              "    }\n",
              "\n",
              "    .colab-df-buttons div {\n",
              "      margin-bottom: 4px;\n",
              "    }\n",
              "\n",
              "    [theme=dark] .colab-df-convert {\n",
              "      background-color: #3B4455;\n",
              "      fill: #D2E3FC;\n",
              "    }\n",
              "\n",
              "    [theme=dark] .colab-df-convert:hover {\n",
              "      background-color: #434B5C;\n",
              "      box-shadow: 0px 1px 3px 1px rgba(0, 0, 0, 0.15);\n",
              "      filter: drop-shadow(0px 1px 2px rgba(0, 0, 0, 0.3));\n",
              "      fill: #FFFFFF;\n",
              "    }\n",
              "  </style>\n",
              "\n",
              "    <script>\n",
              "      const buttonEl =\n",
              "        document.querySelector('#df-5fa3c366-b884-43a9-9414-d6331a52fac0 button.colab-df-convert');\n",
              "      buttonEl.style.display =\n",
              "        google.colab.kernel.accessAllowed ? 'block' : 'none';\n",
              "\n",
              "      async function convertToInteractive(key) {\n",
              "        const element = document.querySelector('#df-5fa3c366-b884-43a9-9414-d6331a52fac0');\n",
              "        const dataTable =\n",
              "          await google.colab.kernel.invokeFunction('convertToInteractive',\n",
              "                                                    [key], {});\n",
              "        if (!dataTable) return;\n",
              "\n",
              "        const docLinkHtml = 'Like what you see? Visit the ' +\n",
              "          '<a target=\"_blank\" href=https://colab.research.google.com/notebooks/data_table.ipynb>data table notebook</a>'\n",
              "          + ' to learn more about interactive tables.';\n",
              "        element.innerHTML = '';\n",
              "        dataTable['output_type'] = 'display_data';\n",
              "        await google.colab.output.renderOutput(dataTable, element);\n",
              "        const docLink = document.createElement('div');\n",
              "        docLink.innerHTML = docLinkHtml;\n",
              "        element.appendChild(docLink);\n",
              "      }\n",
              "    </script>\n",
              "  </div>\n",
              "\n",
              "\n",
              "<div id=\"df-63cbcd17-ca9d-40ef-ac2a-d8f91140a8c6\">\n",
              "  <button class=\"colab-df-quickchart\" onclick=\"quickchart('df-63cbcd17-ca9d-40ef-ac2a-d8f91140a8c6')\"\n",
              "            title=\"Suggest charts\"\n",
              "            style=\"display:none;\">\n",
              "\n",
              "<svg xmlns=\"http://www.w3.org/2000/svg\" height=\"24px\"viewBox=\"0 0 24 24\"\n",
              "     width=\"24px\">\n",
              "    <g>\n",
              "        <path d=\"M19 3H5c-1.1 0-2 .9-2 2v14c0 1.1.9 2 2 2h14c1.1 0 2-.9 2-2V5c0-1.1-.9-2-2-2zM9 17H7v-7h2v7zm4 0h-2V7h2v10zm4 0h-2v-4h2v4z\"/>\n",
              "    </g>\n",
              "</svg>\n",
              "  </button>\n",
              "\n",
              "<style>\n",
              "  .colab-df-quickchart {\n",
              "      --bg-color: #E8F0FE;\n",
              "      --fill-color: #1967D2;\n",
              "      --hover-bg-color: #E2EBFA;\n",
              "      --hover-fill-color: #174EA6;\n",
              "      --disabled-fill-color: #AAA;\n",
              "      --disabled-bg-color: #DDD;\n",
              "  }\n",
              "\n",
              "  [theme=dark] .colab-df-quickchart {\n",
              "      --bg-color: #3B4455;\n",
              "      --fill-color: #D2E3FC;\n",
              "      --hover-bg-color: #434B5C;\n",
              "      --hover-fill-color: #FFFFFF;\n",
              "      --disabled-bg-color: #3B4455;\n",
              "      --disabled-fill-color: #666;\n",
              "  }\n",
              "\n",
              "  .colab-df-quickchart {\n",
              "    background-color: var(--bg-color);\n",
              "    border: none;\n",
              "    border-radius: 50%;\n",
              "    cursor: pointer;\n",
              "    display: none;\n",
              "    fill: var(--fill-color);\n",
              "    height: 32px;\n",
              "    padding: 0;\n",
              "    width: 32px;\n",
              "  }\n",
              "\n",
              "  .colab-df-quickchart:hover {\n",
              "    background-color: var(--hover-bg-color);\n",
              "    box-shadow: 0 1px 2px rgba(60, 64, 67, 0.3), 0 1px 3px 1px rgba(60, 64, 67, 0.15);\n",
              "    fill: var(--button-hover-fill-color);\n",
              "  }\n",
              "\n",
              "  .colab-df-quickchart-complete:disabled,\n",
              "  .colab-df-quickchart-complete:disabled:hover {\n",
              "    background-color: var(--disabled-bg-color);\n",
              "    fill: var(--disabled-fill-color);\n",
              "    box-shadow: none;\n",
              "  }\n",
              "\n",
              "  .colab-df-spinner {\n",
              "    border: 2px solid var(--fill-color);\n",
              "    border-color: transparent;\n",
              "    border-bottom-color: var(--fill-color);\n",
              "    animation:\n",
              "      spin 1s steps(1) infinite;\n",
              "  }\n",
              "\n",
              "  @keyframes spin {\n",
              "    0% {\n",
              "      border-color: transparent;\n",
              "      border-bottom-color: var(--fill-color);\n",
              "      border-left-color: var(--fill-color);\n",
              "    }\n",
              "    20% {\n",
              "      border-color: transparent;\n",
              "      border-left-color: var(--fill-color);\n",
              "      border-top-color: var(--fill-color);\n",
              "    }\n",
              "    30% {\n",
              "      border-color: transparent;\n",
              "      border-left-color: var(--fill-color);\n",
              "      border-top-color: var(--fill-color);\n",
              "      border-right-color: var(--fill-color);\n",
              "    }\n",
              "    40% {\n",
              "      border-color: transparent;\n",
              "      border-right-color: var(--fill-color);\n",
              "      border-top-color: var(--fill-color);\n",
              "    }\n",
              "    60% {\n",
              "      border-color: transparent;\n",
              "      border-right-color: var(--fill-color);\n",
              "    }\n",
              "    80% {\n",
              "      border-color: transparent;\n",
              "      border-right-color: var(--fill-color);\n",
              "      border-bottom-color: var(--fill-color);\n",
              "    }\n",
              "    90% {\n",
              "      border-color: transparent;\n",
              "      border-bottom-color: var(--fill-color);\n",
              "    }\n",
              "  }\n",
              "</style>\n",
              "\n",
              "  <script>\n",
              "    async function quickchart(key) {\n",
              "      const quickchartButtonEl =\n",
              "        document.querySelector('#' + key + ' button');\n",
              "      quickchartButtonEl.disabled = true;  // To prevent multiple clicks.\n",
              "      quickchartButtonEl.classList.add('colab-df-spinner');\n",
              "      try {\n",
              "        const charts = await google.colab.kernel.invokeFunction(\n",
              "            'suggestCharts', [key], {});\n",
              "      } catch (error) {\n",
              "        console.error('Error during call to suggestCharts:', error);\n",
              "      }\n",
              "      quickchartButtonEl.classList.remove('colab-df-spinner');\n",
              "      quickchartButtonEl.classList.add('colab-df-quickchart-complete');\n",
              "    }\n",
              "    (() => {\n",
              "      let quickchartButtonEl =\n",
              "        document.querySelector('#df-63cbcd17-ca9d-40ef-ac2a-d8f91140a8c6 button');\n",
              "      quickchartButtonEl.style.display =\n",
              "        google.colab.kernel.accessAllowed ? 'block' : 'none';\n",
              "    })();\n",
              "  </script>\n",
              "</div>\n",
              "\n",
              "    </div>\n",
              "  </div>\n"
            ],
            "application/vnd.google.colaboratory.intrinsic+json": {
              "type": "dataframe",
              "variable_name": "df"
            }
          },
          "metadata": {},
          "execution_count": 118
        }
      ]
    },
    {
      "cell_type": "code",
      "source": [
        "# Implement Linear Regression and Random Forest Regression\n",
        "from sklearn.model_selection import train_test_split\n",
        "from sklearn.linear_model import LinearRegression\n",
        "from sklearn.ensemble import RandomForestRegressor\n",
        "from sklearn.metrics import mean_squared_error, r2_score, mean_absolute_error\n",
        "import math"
      ],
      "metadata": {
        "id": "zhqVvywjb9rm"
      },
      "execution_count": null,
      "outputs": []
    },
    {
      "cell_type": "code",
      "source": [
        "x = df.drop(['fare_amount'], axis=1)\n",
        "y = df['fare_amount']\n",
        "\n",
        "# Split data into training and testing data\n",
        "x_train, x_test, y_train, y_test = train_test_split(x, y, test_size=0.2, random_state=101)\n",
        "y"
      ],
      "metadata": {
        "colab": {
          "base_uri": "https://localhost:8080/",
          "height": 458
        },
        "id": "NJaReK73eKg-",
        "outputId": "41559fc8-77e7-40e6-bc8b-37c0a3ee7645"
      },
      "execution_count": null,
      "outputs": [
        {
          "output_type": "execute_result",
          "data": {
            "text/plain": [
              "0          7.5\n",
              "1          7.7\n",
              "2         12.9\n",
              "3          5.3\n",
              "4         16.0\n",
              "          ... \n",
              "199995     3.0\n",
              "199996     7.5\n",
              "199997    30.9\n",
              "199998    14.5\n",
              "199999    14.1\n",
              "Name: fare_amount, Length: 199999, dtype: float64"
            ],
            "text/html": [
              "<div>\n",
              "<style scoped>\n",
              "    .dataframe tbody tr th:only-of-type {\n",
              "        vertical-align: middle;\n",
              "    }\n",
              "\n",
              "    .dataframe tbody tr th {\n",
              "        vertical-align: top;\n",
              "    }\n",
              "\n",
              "    .dataframe thead th {\n",
              "        text-align: right;\n",
              "    }\n",
              "</style>\n",
              "<table border=\"1\" class=\"dataframe\">\n",
              "  <thead>\n",
              "    <tr style=\"text-align: right;\">\n",
              "      <th></th>\n",
              "      <th>fare_amount</th>\n",
              "    </tr>\n",
              "  </thead>\n",
              "  <tbody>\n",
              "    <tr>\n",
              "      <th>0</th>\n",
              "      <td>7.5</td>\n",
              "    </tr>\n",
              "    <tr>\n",
              "      <th>1</th>\n",
              "      <td>7.7</td>\n",
              "    </tr>\n",
              "    <tr>\n",
              "      <th>2</th>\n",
              "      <td>12.9</td>\n",
              "    </tr>\n",
              "    <tr>\n",
              "      <th>3</th>\n",
              "      <td>5.3</td>\n",
              "    </tr>\n",
              "    <tr>\n",
              "      <th>4</th>\n",
              "      <td>16.0</td>\n",
              "    </tr>\n",
              "    <tr>\n",
              "      <th>...</th>\n",
              "      <td>...</td>\n",
              "    </tr>\n",
              "    <tr>\n",
              "      <th>199995</th>\n",
              "      <td>3.0</td>\n",
              "    </tr>\n",
              "    <tr>\n",
              "      <th>199996</th>\n",
              "      <td>7.5</td>\n",
              "    </tr>\n",
              "    <tr>\n",
              "      <th>199997</th>\n",
              "      <td>30.9</td>\n",
              "    </tr>\n",
              "    <tr>\n",
              "      <th>199998</th>\n",
              "      <td>14.5</td>\n",
              "    </tr>\n",
              "    <tr>\n",
              "      <th>199999</th>\n",
              "      <td>14.1</td>\n",
              "    </tr>\n",
              "  </tbody>\n",
              "</table>\n",
              "<p>199999 rows × 1 columns</p>\n",
              "</div><br><label><b>dtype:</b> float64</label>"
            ]
          },
          "metadata": {},
          "execution_count": 120
        }
      ]
    },
    {
      "cell_type": "code",
      "source": [
        "def returnRounded(value):\n",
        "    return (math.floor(value * 1000)) / 1000"
      ],
      "metadata": {
        "id": "dDE3eGVio_dT"
      },
      "execution_count": null,
      "outputs": []
    },
    {
      "cell_type": "code",
      "source": [
        "# Train the model on data & predict using test data\n",
        "linear = LinearRegression()\n",
        "linear.fit(x_train, y_train)\n",
        "linearPredict = linear.predict(x_test)\n",
        "\n",
        "# Calculate the errors and r^2 score\n",
        "linearRMSE = np.sqrt(mean_squared_error(y_test, linearPredict)) # Square root of MSE\n",
        "linearR2 = r2_score(y_test, linearPredict)\n",
        "linearMAE = mean_absolute_error(y_test, linearPredict)\n",
        "\n",
        "print(\"Root Mean Squared Error:\", returnRounded(linearRMSE))\n",
        "print(\"R^2 Score:\", returnRounded(linearR2))\n",
        "print(\"Mean Absolute Error:\", returnRounded(linearMAE))"
      ],
      "metadata": {
        "colab": {
          "base_uri": "https://localhost:8080/"
        },
        "id": "LNf2yErtiyJI",
        "outputId": "6fd0540d-e351-43d6-8c1d-44ef67c58469"
      },
      "execution_count": null,
      "outputs": [
        {
          "output_type": "stream",
          "name": "stdout",
          "text": [
            "Root Mean Squared Error: 9.807\n",
            "R^2 Score: 0.016\n",
            "Mean Absolute Error: 5.967\n"
          ]
        }
      ]
    },
    {
      "cell_type": "code",
      "source": [
        "# Train model on Random Forest\n",
        "forest = RandomForestRegressor(n_estimators=100, random_state=101)\n",
        "forest.fit(x_train, y_train)\n",
        "forestPredict = forest.predict(x_test)\n",
        "\n",
        "# Calculate the errors and R^2 Score\n",
        "forestRMSE = np.sqrt(mean_squared_error(y_test, forestPredict)) # Square root of MSE\n",
        "forestR2 = r2_score(y_test, forestPredict)\n",
        "forestMAE = mean_absolute_error(y_test, forestPredict)\n",
        "\n",
        "print(\"Root Mean Squared Error:\", returnRounded(forestRMSE))\n",
        "print(\"R^2 Score:\", returnRounded(forestR2))\n",
        "print(\"Mean Absolute Error:\", returnRounded(forestMAE))"
      ],
      "metadata": {
        "colab": {
          "base_uri": "https://localhost:8080/"
        },
        "id": "8ZHiVHr8qfdx",
        "outputId": "bae071bd-6f0a-4015-8458-b2be486a14f0"
      },
      "execution_count": null,
      "outputs": [
        {
          "output_type": "stream",
          "name": "stdout",
          "text": [
            "Root Mean Squared Error: 4.777\n",
            "R^2 Score: 0.766\n",
            "Mean Absolute Error: 1.975\n"
          ]
        }
      ]
    },
    {
      "cell_type": "code",
      "source": [
        "# Comparison of model performance\n",
        "print(\"\\nModel Comparison:\\n\")\n",
        "print(\"Linear Regression\\nRMSE:\", returnRounded(linearRMSE), \"\\tR^2:\", returnRounded(linearR2), \"\\tMAE:\", returnRounded(linearMAE))\n",
        "print(\"Random Forest Regression\\nRMSE:\", returnRounded(forestRMSE), \"\\tR^2:\", returnRounded(forestR2), \"\\tMAE:\", returnRounded(forestMAE))"
      ],
      "metadata": {
        "colab": {
          "base_uri": "https://localhost:8080/"
        },
        "id": "Kyu-Iqqjy4n8",
        "outputId": "11cd1210-43a4-4273-a08f-40241f85b6f5"
      },
      "execution_count": null,
      "outputs": [
        {
          "output_type": "stream",
          "name": "stdout",
          "text": [
            "\n",
            "Model Comparison:\n",
            "\n",
            "Linear Regression\n",
            "RMSE: 9.807 \tR^2: 0.016 \tMAE: 5.967\n",
            "Random Forest Regression\n",
            "RMSE: 4.777 \tR^2: 0.766 \tMAE: 1.975\n"
          ]
        }
      ]
    }
  ]
}